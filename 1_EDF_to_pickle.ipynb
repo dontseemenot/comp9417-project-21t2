{
 "cells": [
  {
   "cell_type": "markdown",
   "source": [
    "# 1_EDF to pickle\r\n",
    "Converts raw data into an easily processable format for preprocessing and feature extraction later on. Thsi is done by dividing multiple hours of recordings for each patient into 30s epochs and stored in a single file, with sleep stage annotations."
   ],
   "metadata": {}
  },
  {
   "cell_type": "code",
   "execution_count": 1,
   "source": [
    "import os\r\n",
    "import mne\r\n",
    "import numpy as np\r\n",
    "import matplotlib.pyplot as plt\r\n",
    "import pandas as pd\r\n",
    "import pickle"
   ],
   "outputs": [],
   "metadata": {}
  },
  {
   "cell_type": "code",
   "execution_count": null,
   "source": [
    "# Set directory of raw data (use data in sleep-cassette folder) and pre-processed data\r\n",
    "rawDir = \"F:\\sleep-edf-database-expanded-1.0.0\\sleep-cassette\"\r\n",
    "dest_path = \"F:\\sleep-edf-database-expanded-1.0.0\\sleep-cassette\\\\all_data.pkl\"\r\n",
    "\r\n",
    "# Match each psg file with corresponding hypnogram (sleep stage annotation) file. We only use the 2nd night recording for each patient, which is identified by the '2'.\r\n",
    "psg_hyp = []\r\n",
    "for file in os.listdir(rawDir):\r\n",
    "    if file.endswith(\"PSG.edf\") and file[5] == '2':\r\n",
    "        psgTemp = file\r\n",
    "    elif file.endswith(\"Hypnogram.edf\") and file[5] == '2':\r\n",
    "        if psgTemp[0:5] == file[0:5]:\r\n",
    "            psg_hyp.append((psgTemp, file))\r\n",
    "\r\n",
    "rows = []\r\n",
    "# psg_hyp = [('SC4001E0-PSG.edf', 'SC4001EC-Hypnogram.edf')]    # For debugging with 1 patient\r\n",
    "\r\n",
    "\r\n",
    "mapping = {'EOG horizontal': 'eog',\r\n",
    "           'Resp oro-nasal': 'resp',\r\n",
    "           'EMG submental': 'emg',\r\n",
    "           'Temp rectal': 'misc',\r\n",
    "           'Event marker': 'misc'}\r\n",
    "\r\n",
    "annotation_desc_2_event_id = {'Sleep stage W': 0,\r\n",
    "                              'Sleep stage 1': 1,\r\n",
    "                              'Sleep stage 2': 2,\r\n",
    "                              'Sleep stage 3': 3,\r\n",
    "                              'Sleep stage 4': 3,\r\n",
    "                              'Sleep stage R': 4}\r\n",
    "\r\n",
    "event_id = {'Sleep stage W': 0,\r\n",
    "        'Sleep stage 1': 1,\r\n",
    "        'Sleep stage 2': 2,\r\n",
    "        'Sleep stage 3/4': 3,\r\n",
    "        'Sleep stage R': 4}\r\n",
    "\r\n",
    "\r\n",
    "all_epochs = []\r\n",
    "Npatients = len(psg_hyp)\r\n",
    "\r\n",
    "# Keep to 30s duration\r\n",
    "epoch_duration = 30.0\r\n",
    "\r\n",
    "for i, (psgFile, hypFile) in enumerate(psg_hyp):\r\n",
    "    pID = psgFile[3:5]    \r\n",
    "    print(f\"Patient {i:3d}/{Npatients}\")\r\n",
    "    # get our data into epochs\r\n",
    "    raw = mne.io.read_raw_edf(os.path.join(rawDir, psgFile))\r\n",
    "    annot = mne.read_annotations(os.path.join(rawDir, hypFile))\r\n",
    "    raw.set_annotations(annot, emit_warning = False)\r\n",
    "    raw.set_channel_types(mapping)\r\n",
    "    # Double check if sampling freq is really 100 Hz, because sometimes it may not be\r\n",
    "    fs = int(raw.info['sfreq'])\r\n",
    "    assert(fs == 100)\r\n",
    "    assert(raw['EEG Fpz-Cz'][1][100] == 1)\r\n",
    "    # remove head and tail of our recording \r\n",
    "    annot.crop(annot[1]['onset'] - 30 * 60, annot[-2]['onset'] + 30 * 60)\r\n",
    "    raw.set_annotations(annot, emit_warning=False)\r\n",
    "    # split into epochs\r\n",
    "    events, _ = mne.events_from_annotations(raw, event_id=annotation_desc_2_event_id, chunk_duration=epoch_duration)\r\n",
    "    tmax = epoch_duration - 1. / raw.info['sfreq']  # tmax in included\r\n",
    "    try:\r\n",
    "        # Currently the code breaks if the PSG file does not include at least one of each sleep stage (eg: for pID = 20, there is no sleep stage 3/4). I don't know how to fix this so we just ignore that file.\r\n",
    "        epochs = mne.Epochs(raw=raw, events=events, tmin=0., tmax=tmax, baseline=None, picks = ['EEG Fpz-Cz'])\r\n",
    "    except Exception as ex:\r\n",
    "        print(ex)\r\n",
    "        print(f'Files {psgFile} {hypFile} ignored because an instance of a particular sleep stage was not found')\r\n",
    "    \r\n",
    "    # Push all our epochs into a list. I don't believe any epochs are designated as 'bad', but we will resolve this issue in the preprocessing file.\r\n",
    "    epochs.drop_bad()\r\n",
    "    \r\n",
    "    epochs_data = epochs.get_data(\"EEG Fpz-Cz\")\r\n",
    "    epochs_data = np.squeeze(epochs_data)\r\n",
    "    epochs_y = epochs.events[:,-1].flatten()\r\n",
    "    Nepochs = epochs_data.shape[0]\r\n",
    "    \r\n",
    "    for i in range(Nepochs):\r\n",
    "        all_epochs.append((int(pID), epochs_y[i], epochs_data[i,:].flatten()))"
   ],
   "outputs": [],
   "metadata": {
    "scrolled": true
   }
  },
  {
   "cell_type": "code",
   "execution_count": 9,
   "source": [
    "with open(dest_path, \"wb+\") as fp:\r\n",
    "    pickle.dump(all_epochs, fp)"
   ],
   "outputs": [],
   "metadata": {}
  },
  {
   "cell_type": "code",
   "execution_count": null,
   "source": [],
   "outputs": [],
   "metadata": {}
  }
 ],
 "metadata": {
  "kernelspec": {
   "name": "python3",
   "display_name": "Python 3.6.8 64-bit"
  },
  "language_info": {
   "codemirror_mode": {
    "name": "ipython",
    "version": 3
   },
   "file_extension": ".py",
   "mimetype": "text/x-python",
   "name": "python",
   "nbconvert_exporter": "python",
   "pygments_lexer": "ipython3",
   "version": "3.6.8"
  },
  "interpreter": {
   "hash": "ca416d46cdc90f0d92f8c4cf1d504b54208493fa79b1d6139d129445d45642e5"
  }
 },
 "nbformat": 4,
 "nbformat_minor": 5
}