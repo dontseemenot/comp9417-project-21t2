{
 "cells": [
  {
   "cell_type": "code",
   "execution_count": 19,
   "id": "25f8abe5",
   "metadata": {},
   "outputs": [],
   "source": [
    "import numpy as np\n",
    "import pandas as pd\n",
    "import matplotlib.pyplot as plt\n",
    "\n",
    "from sklearn.svm import SVC\n",
    "from sklearn.linear_model import LogisticRegression\n",
    "from sklearn.preprocessing import MinMaxScaler\n",
    "from sklearn import tree\n",
    "\n",
    "from imblearn.over_sampling import RandomOverSampler, SMOTE, ADASYN\n",
    "\n",
    "from scipy.stats import skew\n",
    "from collections import Counter"
   ]
  },
  {
   "cell_type": "code",
   "execution_count": 2,
   "id": "4c537191",
   "metadata": {},
   "outputs": [],
   "source": [
    "df = pd.read_csv(\"./data/subband_data.csv\")\n",
    "#df = pd.read_csv(\"./data/preprocessed/data.csv\")\n",
    "df = df.dropna()"
   ]
  },
  {
   "cell_type": "code",
   "execution_count": 4,
   "id": "39e5ded7",
   "metadata": {},
   "outputs": [
    {
     "name": "stdout",
     "output_type": "stream",
     "text": [
      "(97432, 22)\n",
      "(array([12], dtype=int64),)\n"
     ]
    }
   ],
   "source": [
    "data = df.to_numpy()\n",
    "X = data[:,1:-1]\n",
    "Y = data[:,-1]\n",
    "\n",
    "#print(np.min(X))\n",
    "assert(np.min(X) > 0)\n",
    "\n",
    "X0 = X\n",
    "X1 = np.log10(X0)\n",
    "X0 = (X0-np.mean(X0, axis=0))/np.std(X0, axis=0)\n",
    "X1 = (X1-np.mean(X1, axis=0))/np.std(X1, axis=0)\n",
    "\n",
    "Nepochs, Nfeatures = X.shape\n",
    "print(X.shape)\n",
    "\n",
    "# reduce skew\n",
    "X1_skew = skew(X1, axis=0)\n",
    "X0_skew = skew(X0, axis=0)\n",
    "skew_delta = np.abs(X0_skew)-np.abs(X1_skew)\n",
    "skew_delta = skew_delta\n",
    "#indices where we have non-beneficial log transform\n",
    "bad_log_i = np.where(skew_delta < 0)\n",
    "print(bad_log_i)\n",
    "\n",
    "# # plot effect of log transform\n",
    "# plt.figure()\n",
    "# plt.scatter(np.arange(Nfeatures), skew_delta)\n",
    "# plt.axhline(0, c=\"black\", linestyle=\"--\")\n",
    "# plt.title(\"Skewness improvement with log transform\")\n",
    "# plt.show()\n",
    "\n",
    "# i = np.argmax(np.abs(X1_skew))\n",
    "# plt.figure()\n",
    "# _ = plt.hist(X1[:,i], bins=100, label=\"Log transform\")\n",
    "# _ = plt.hist(X0[:,i], bins=100, label=\"Original\")\n",
    "# plt.legend()\n",
    "# plt.title(f\"Histogram of worst skewness after log transform - X{i}\")\n",
    "# plt.show()\n",
    "\n",
    "# i = np.argmin(np.abs(X1_skew))\n",
    "# plt.figure()\n",
    "# _ = plt.hist(X1[:,i], bins=100, label=\"Log transform\")\n",
    "# _ = plt.hist(X0[:,i], bins=100, label=\"Original\")\n",
    "# plt.legend()\n",
    "# plt.title(f\"Histogram of best skewness after log transform - X{i}\")\n",
    "# plt.show()\n",
    "\n",
    "# ignore log transform where it worsens skew\n",
    "X1[:,bad_log_i] = X0[:,bad_log_i]\n",
    "Y1 = Y"
   ]
  },
  {
   "cell_type": "code",
   "execution_count": 17,
   "id": "72ac7039",
   "metadata": {},
   "outputs": [
    {
     "name": "stdout",
     "output_type": "stream",
     "text": [
      "(77945, 22)\n"
     ]
    }
   ],
   "source": [
    "# split into training and testing\n",
    "# with the training set, we want to rebalance using oversampling\n",
    "Ntotal = X1.shape[0]\n",
    "Ntrain = int(Ntotal*0.8)\n",
    "\n",
    "idxs = np.arange(Ntotal)\n",
    "np.random.shuffle(idxs)\n",
    "\n",
    "Xtrain, Ytrain = X1[idxs[:Ntrain]], Y1[idxs[:Ntrain]]\n",
    "Xtest, Ytest = X1[idxs[Ntrain:]], Y1[idxs[Ntrain:]]\n",
    "\n",
    "#over_sampler = SMOTE()\n",
    "#Xtrain, Ytrain = over_sampler.fit_resample(Xtrain, Ytrain)\n",
    "\n",
    "print(Xtrain.shape)"
   ]
  },
  {
   "cell_type": "code",
   "execution_count": 78,
   "id": "02b3c989",
   "metadata": {},
   "outputs": [
    {
     "ename": "KeyboardInterrupt",
     "evalue": "",
     "output_type": "error",
     "traceback": [
      "\u001b[1;31m---------------------------------------------------------------------------\u001b[0m",
      "\u001b[1;31mKeyboardInterrupt\u001b[0m                         Traceback (most recent call last)",
      "\u001b[1;32m<ipython-input-78-e11b65c43ce4>\u001b[0m in \u001b[0;36m<module>\u001b[1;34m\u001b[0m\n\u001b[0;32m      1\u001b[0m \u001b[0mclf\u001b[0m \u001b[1;33m=\u001b[0m \u001b[0mSVC\u001b[0m\u001b[1;33m(\u001b[0m\u001b[1;33m)\u001b[0m\u001b[1;33m\u001b[0m\u001b[1;33m\u001b[0m\u001b[0m\n\u001b[1;32m----> 2\u001b[1;33m \u001b[0mclf\u001b[0m\u001b[1;33m.\u001b[0m\u001b[0mfit\u001b[0m\u001b[1;33m(\u001b[0m\u001b[0mXtrain\u001b[0m\u001b[1;33m,\u001b[0m \u001b[0mYtrain\u001b[0m\u001b[1;33m)\u001b[0m\u001b[1;33m\u001b[0m\u001b[1;33m\u001b[0m\u001b[0m\n\u001b[0m\u001b[0;32m      3\u001b[0m \u001b[1;33m\u001b[0m\u001b[0m\n\u001b[0;32m      4\u001b[0m \u001b[0mypred\u001b[0m \u001b[1;33m=\u001b[0m \u001b[0mclf\u001b[0m\u001b[1;33m.\u001b[0m\u001b[0mpredict\u001b[0m\u001b[1;33m(\u001b[0m\u001b[0mXtrain\u001b[0m\u001b[1;33m)\u001b[0m\u001b[1;33m\u001b[0m\u001b[1;33m\u001b[0m\u001b[0m\n\u001b[0;32m      5\u001b[0m \u001b[0mtrain_acc\u001b[0m \u001b[1;33m=\u001b[0m \u001b[0mnp\u001b[0m\u001b[1;33m.\u001b[0m\u001b[0mmean\u001b[0m\u001b[1;33m(\u001b[0m\u001b[0mypred\u001b[0m \u001b[1;33m==\u001b[0m \u001b[0mYtrain\u001b[0m\u001b[1;33m)\u001b[0m\u001b[1;33m\u001b[0m\u001b[1;33m\u001b[0m\u001b[0m\n",
      "\u001b[1;32mc:\\users\\acidi\\appdata\\local\\programs\\python\\python39\\lib\\site-packages\\sklearn\\svm\\_base.py\u001b[0m in \u001b[0;36mfit\u001b[1;34m(self, X, y, sample_weight)\u001b[0m\n\u001b[0;32m    224\u001b[0m \u001b[1;33m\u001b[0m\u001b[0m\n\u001b[0;32m    225\u001b[0m         \u001b[0mseed\u001b[0m \u001b[1;33m=\u001b[0m \u001b[0mrnd\u001b[0m\u001b[1;33m.\u001b[0m\u001b[0mrandint\u001b[0m\u001b[1;33m(\u001b[0m\u001b[0mnp\u001b[0m\u001b[1;33m.\u001b[0m\u001b[0miinfo\u001b[0m\u001b[1;33m(\u001b[0m\u001b[1;34m'i'\u001b[0m\u001b[1;33m)\u001b[0m\u001b[1;33m.\u001b[0m\u001b[0mmax\u001b[0m\u001b[1;33m)\u001b[0m\u001b[1;33m\u001b[0m\u001b[1;33m\u001b[0m\u001b[0m\n\u001b[1;32m--> 226\u001b[1;33m         \u001b[0mfit\u001b[0m\u001b[1;33m(\u001b[0m\u001b[0mX\u001b[0m\u001b[1;33m,\u001b[0m \u001b[0my\u001b[0m\u001b[1;33m,\u001b[0m \u001b[0msample_weight\u001b[0m\u001b[1;33m,\u001b[0m \u001b[0msolver_type\u001b[0m\u001b[1;33m,\u001b[0m \u001b[0mkernel\u001b[0m\u001b[1;33m,\u001b[0m \u001b[0mrandom_seed\u001b[0m\u001b[1;33m=\u001b[0m\u001b[0mseed\u001b[0m\u001b[1;33m)\u001b[0m\u001b[1;33m\u001b[0m\u001b[1;33m\u001b[0m\u001b[0m\n\u001b[0m\u001b[0;32m    227\u001b[0m         \u001b[1;31m# see comment on the other call to np.iinfo in this file\u001b[0m\u001b[1;33m\u001b[0m\u001b[1;33m\u001b[0m\u001b[1;33m\u001b[0m\u001b[0m\n\u001b[0;32m    228\u001b[0m \u001b[1;33m\u001b[0m\u001b[0m\n",
      "\u001b[1;32mc:\\users\\acidi\\appdata\\local\\programs\\python\\python39\\lib\\site-packages\\sklearn\\svm\\_base.py\u001b[0m in \u001b[0;36m_dense_fit\u001b[1;34m(self, X, y, sample_weight, solver_type, kernel, random_seed)\u001b[0m\n\u001b[0;32m    275\u001b[0m         \u001b[0mself\u001b[0m\u001b[1;33m.\u001b[0m\u001b[0msupport_\u001b[0m\u001b[1;33m,\u001b[0m \u001b[0mself\u001b[0m\u001b[1;33m.\u001b[0m\u001b[0msupport_vectors_\u001b[0m\u001b[1;33m,\u001b[0m \u001b[0mself\u001b[0m\u001b[1;33m.\u001b[0m\u001b[0m_n_support\u001b[0m\u001b[1;33m,\u001b[0m\u001b[0;31m \u001b[0m\u001b[0;31m\\\u001b[0m\u001b[1;33m\u001b[0m\u001b[1;33m\u001b[0m\u001b[0m\n\u001b[0;32m    276\u001b[0m             \u001b[0mself\u001b[0m\u001b[1;33m.\u001b[0m\u001b[0mdual_coef_\u001b[0m\u001b[1;33m,\u001b[0m \u001b[0mself\u001b[0m\u001b[1;33m.\u001b[0m\u001b[0mintercept_\u001b[0m\u001b[1;33m,\u001b[0m \u001b[0mself\u001b[0m\u001b[1;33m.\u001b[0m\u001b[0m_probA\u001b[0m\u001b[1;33m,\u001b[0m\u001b[0;31m \u001b[0m\u001b[0;31m\\\u001b[0m\u001b[1;33m\u001b[0m\u001b[1;33m\u001b[0m\u001b[0m\n\u001b[1;32m--> 277\u001b[1;33m             self._probB, self.fit_status_ = libsvm.fit(\n\u001b[0m\u001b[0;32m    278\u001b[0m                 \u001b[0mX\u001b[0m\u001b[1;33m,\u001b[0m \u001b[0my\u001b[0m\u001b[1;33m,\u001b[0m\u001b[1;33m\u001b[0m\u001b[1;33m\u001b[0m\u001b[0m\n\u001b[0;32m    279\u001b[0m                 \u001b[0msvm_type\u001b[0m\u001b[1;33m=\u001b[0m\u001b[0msolver_type\u001b[0m\u001b[1;33m,\u001b[0m \u001b[0msample_weight\u001b[0m\u001b[1;33m=\u001b[0m\u001b[0msample_weight\u001b[0m\u001b[1;33m,\u001b[0m\u001b[1;33m\u001b[0m\u001b[1;33m\u001b[0m\u001b[0m\n",
      "\u001b[1;31mKeyboardInterrupt\u001b[0m: "
     ]
    }
   ],
   "source": [
    "clf = SVC()\n",
    "clf.fit(Xtrain, Ytrain)\n",
    "\n",
    "ypred = clf.predict(Xtrain)\n",
    "train_acc = np.mean(ypred == Ytrain)\n",
    "ypred = clf.predict(Xtest)\n",
    "test_acc = np.mean(ypred == Ytest)\n",
    "print(train_acc)\n",
    "print(test_acc)"
   ]
  },
  {
   "cell_type": "code",
   "execution_count": 15,
   "id": "44da3d28",
   "metadata": {},
   "outputs": [
    {
     "name": "stdout",
     "output_type": "stream",
     "text": [
      "0.796116576669872\n",
      "0.6907168881818648\n"
     ]
    }
   ],
   "source": [
    "clf = tree.DecisionTreeClassifier(max_depth=20, min_samples_split=100)\n",
    "#clf = tree.DecisionTreeClassifier()\n",
    "clf = clf.fit(Xtrain, Ytrain)\n",
    "\n",
    "ypred = clf.predict(Xtrain)\n",
    "train_acc = np.mean(ypred == Ytrain)\n",
    "ypred = clf.predict(Xtest)\n",
    "test_acc = np.mean(ypred == Ytest)\n",
    "\n",
    "print(train_acc)\n",
    "print(test_acc)"
   ]
  },
  {
   "cell_type": "code",
   "execution_count": 18,
   "id": "593e00c4",
   "metadata": {},
   "outputs": [
    {
     "name": "stdout",
     "output_type": "stream",
     "text": [
      "0.7460901918019116\n",
      "0.7488068969056294\n"
     ]
    }
   ],
   "source": [
    "clf = LogisticRegression(max_iter=1000)\n",
    "#clf = tree.DecisionTreeClassifier()\n",
    "clf = clf.fit(Xtrain, Ytrain)\n",
    "\n",
    "ypred = clf.predict(Xtrain)\n",
    "train_acc = np.mean(ypred == Ytrain)\n",
    "ypred = clf.predict(Xtest)\n",
    "test_acc = np.mean(ypred == Ytest)\n",
    "\n",
    "print(train_acc)\n",
    "print(test_acc)"
   ]
  },
  {
   "cell_type": "code",
   "execution_count": 80,
   "id": "556c913a",
   "metadata": {},
   "outputs": [
    {
     "data": {
      "text/plain": [
       "<matplotlib.image.AxesImage at 0x27d47b90850>"
      ]
     },
     "execution_count": 80,
     "metadata": {},
     "output_type": "execute_result"
    },
    {
     "data": {
      "image/png": "[encoded data removed]",
      "text/plain": [
       "<Figure size 432x288 with 1 Axes>"
      ]
     },
     "metadata": {
      "needs_background": "light"
     },
     "output_type": "display_data"
    }
   ],
   "source": [
    "plt.imshow(clf.coef_, cmap=\"PRGn\")\n",
    "#plt.colorbar()"
   ]
  },
  {
   "cell_type": "code",
   "execution_count": 16,
   "id": "528d4e5a",
   "metadata": {},
   "outputs": [
    {
     "name": "stdout",
     "output_type": "stream",
     "text": [
      "0.19077196095829635\n",
      "0.61\n"
     ]
    },
    {
     "data": {
      "text/plain": [
       "<matplotlib.legend.Legend at 0x218811d9520>"
      ]
     },
     "execution_count": 16,
     "metadata": {},
     "output_type": "execute_result"
    },
    {
     "data": {
      "image/png": "[encoded data removed]",
      "text/plain": [
       "<Figure size 1440x720 with 1 Axes>"
      ]
     },
     "metadata": {
      "needs_background": "light"
     },
     "output_type": "display_data"
    }
   ],
   "source": [
    "pid = 0\n",
    "mask = (df['pid'] == pid)\n",
    "x = X[mask]\n",
    "y = Y[mask]\n",
    "\n",
    "# Plot our true and predicted hypnogram\n",
    "len_slice = 100\n",
    "n_slice = 7\n",
    "i = np.arange(0, len_slice) + len_slice*n_slice\n",
    "#i = np.arange(0, y.shape[0])\n",
    "epoch_time = 30\n",
    "t = i*(epoch_time/3600) # hours\n",
    "\n",
    "y_true = y\n",
    "y_pred =  clf.predict(x)\n",
    "print(np.mean(y_true == y_pred))\n",
    "print(np.mean(y_true[i] == y_pred[i]))\n",
    "\n",
    "fig = plt.figure(figsize=(20,10))\n",
    "plt.step(t, y_true[i], label=\"ytrue\")\n",
    "plt.step(t, y_pred[i], linestyle=\"--\", label=\"ypred\")\n",
    "_ = plt.yticks(np.unique(y))\n",
    "plt.grid(True)\n",
    "plt.legend()"
   ]
  }
 ],
 "metadata": {
  "kernelspec": {
   "display_name": "Python 3",
   "language": "python",
   "name": "python3"
  },
  "language_info": {
   "codemirror_mode": {
    "name": "ipython",
    "version": 3
   },
   "file_extension": ".py",
   "mimetype": "text/x-python",
   "name": "python",
   "nbconvert_exporter": "python",
   "pygments_lexer": "ipython3",
   "version": "3.9.4"
  }
 },
 "nbformat": 4,
 "nbformat_minor": 5
}
