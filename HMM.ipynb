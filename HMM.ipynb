{
 "cells": [
  {
   "cell_type": "code",
   "execution_count": 1,
   "id": "cef5d2b4",
   "metadata": {},
   "outputs": [],
   "source": [
    "import numpy as np\n",
    "import pandas as pd\n",
    "import matplotlib.pyplot as plt\n",
    "\n",
    "from sklearn.preprocessing import MinMaxScaler"
   ]
  },
  {
   "cell_type": "code",
   "execution_count": 3,
   "id": "d0a5acf5",
   "metadata": {},
   "outputs": [],
   "source": [
    "df = pd.read_csv(\"./data/preprocessed/subband_data.csv\")\n",
    "#df = pd.read_csv(\"./data/preprocessed/data.csv\")\n",
    "df = df.dropna()"
   ]
  },
  {
   "cell_type": "code",
   "execution_count": 77,
   "id": "5679ffdc",
   "metadata": {},
   "outputs": [],
   "source": [
    "subbands = [\"alpha\", \"beta\", \"delta\", \"theta\", \"gamma\", \"sigma\"]\n",
    "#features = [\"energy\", \"activity\", \"mobility\", \"complexity\"]\n",
    "features = [\"energy\"]\n",
    "\n",
    "columns = []\n",
    "for subband in subbands:\n",
    "    for feature in features:\n",
    "        columns.append(f\"{feature}_{subband}\")\n",
    "        #columns.append(f\"{feature}_{subband}_rel\")"
   ]
  },
  {
   "cell_type": "code",
   "execution_count": 5,
   "id": "c22af06b",
   "metadata": {},
   "outputs": [
    {
     "name": "stdout",
     "output_type": "stream",
     "text": [
      "(45222, 6)\n",
      "[0. 1. 2. 3. 4.]\n"
     ]
    }
   ],
   "source": [
    "data = df.to_numpy()\n",
    "Y = data[:,-1]\n",
    "\n",
    "X = data[:,1:-1]\n",
    "X = df[columns].to_numpy()\n",
    "\n",
    "X = X-np.mean(X, axis=0)\n",
    "X = X/np.std(X, axis=0)\n",
    "\n",
    "print(X.shape)\n",
    "print(np.unique(Y))"
   ]
  },
  {
   "cell_type": "code",
   "execution_count": 6,
   "id": "dd57ed3b",
   "metadata": {},
   "outputs": [],
   "source": [
    "from IOHMM import UnSupervisedIOHMM\n",
    "from IOHMM import OLS, DiscreteMNL, CrossEntropyMNL"
   ]
  },
  {
   "cell_type": "code",
   "execution_count": 101,
   "id": "d5364f5e",
   "metadata": {},
   "outputs": [],
   "source": [
    "y_columns = ['Awake', 'Stage 1', 'Stage 2', 'Stage 3/4', 'REM']\n",
    "\n",
    "df_data = pd.DataFrame()\n",
    "for c in columns:\n",
    "    x = df[c].to_numpy()\n",
    "    x = x-np.mean(x, axis=0)\n",
    "    x = x/np.std(x, axis=0)\n",
    "    df_data[c] = x\n",
    "\n",
    "#df_data['sleep_stage'] = df['sleep_stage']\n",
    "for i, y_column in enumerate(y_columns):\n",
    "    df_data[y_column] = (df['sleep_stage'] == i).astype(int)"
   ]
  },
  {
   "cell_type": "code",
   "execution_count": 102,
   "id": "51956ad4",
   "metadata": {},
   "outputs": [],
   "source": [
    "pids = np.unique(df['pid'])\n",
    "\n",
    "idxs = np.arange(0, len(pids))\n",
    "np.random.shuffle(idxs)\n",
    "\n",
    "Ntraining = max(1, int(len(pids)*0.01))\n",
    "training_idxs = idxs[:Ntraining]\n",
    "validation_idxs = idxs[Ntraining:]\n",
    "\n",
    "training_pids = pids[training_idxs]\n",
    "validation_pids = pids[validation_idxs]"
   ]
  },
  {
   "cell_type": "code",
   "execution_count": 103,
   "id": "df37db19",
   "metadata": {},
   "outputs": [],
   "source": [
    "y = [df_data[df['pid'] == i] for i in training_pids]"
   ]
  },
  {
   "cell_type": "code",
   "execution_count": 106,
   "id": "e5d20b02",
   "metadata": {},
   "outputs": [],
   "source": [
    "clf = UnSupervisedIOHMM(num_states=3, max_EM_iter=100, EM_tol=1e-3)\n",
    "\n",
    "clf.set_models(\n",
    "    model_emissions=[CrossEntropyMNL(solver='lbfgs')],\n",
    "    model_transition=CrossEntropyMNL(solver='lbfgs'),\n",
    "    model_initial=CrossEntropyMNL(solver='lbfgs'))\n",
    "\n",
    "clf.set_inputs(\n",
    "    #covariates_initial=columns, \n",
    "    covariates_initial=[], \n",
    "    #covariates_transition=columns, \n",
    "    covariates_transition=[], \n",
    "    #covariates_emissions=[columns],\n",
    "    covariates_emissions=[[]],\n",
    ")\n",
    "\n",
    "clf.set_outputs([y_columns])\n",
    "#clf.set_outputs([['sleep_stage']])\n",
    "clf.set_data(y)"
   ]
  },
  {
   "cell_type": "code",
   "execution_count": 107,
   "id": "0f4c0316",
   "metadata": {},
   "outputs": [],
   "source": [
    "clf.train()"
   ]
  },
  {
   "cell_type": "code",
   "execution_count": 97,
   "id": "7fb3f923",
   "metadata": {},
   "outputs": [
    {
     "name": "stdout",
     "output_type": "stream",
     "text": [
      "6\n"
     ]
    }
   ],
   "source": [
    "print(len(columns))"
   ]
  },
  {
   "cell_type": "code",
   "execution_count": 108,
   "id": "2163d51f",
   "metadata": {},
   "outputs": [
    {
     "name": "stdout",
     "output_type": "stream",
     "text": [
      "3\n",
      "(3, 1)\n"
     ]
    }
   ],
   "source": [
    "print(len(clf.model_transition))\n",
    "print(clf.model_transition[0].coef.shape)"
   ]
  },
  {
   "cell_type": "code",
   "execution_count": 110,
   "id": "2e5aa080",
   "metadata": {},
   "outputs": [
    {
     "name": "stdout",
     "output_type": "stream",
     "text": [
      "3\n",
      "1\n",
      "(5, 1)\n",
      "[ 0.89341363 -0.43026775  0.62790416 -0.82599908 -0.26505096]\n",
      "[ 0.91395592 -0.42674055  0.61766986 -0.78550091 -0.31938432]\n",
      "[ 0.91064275 -0.41086215  0.56814959 -0.77221531 -0.29571489]\n"
     ]
    }
   ],
   "source": [
    "print(len(clf.model_emissions))\n",
    "print(len(clf.model_emissions[0]))\n",
    "print(clf.model_emissions[0][0].coef.shape)\n",
    "\n",
    "for m in clf.model_emissions:\n",
    "    print(m[0].coef.flatten())"
   ]
  },
  {
   "cell_type": "code",
   "execution_count": 109,
   "id": "c395e2dd",
   "metadata": {},
   "outputs": [
    {
     "name": "stdout",
     "output_type": "stream",
     "text": [
      "(3, 1)\n"
     ]
    }
   ],
   "source": [
    "print(clf.model_initial.coef.shape)"
   ]
  },
  {
   "cell_type": "code",
   "execution_count": 14,
   "id": "51cf052b",
   "metadata": {},
   "outputs": [
    {
     "data": {
      "text/plain": [
       "['EM_tol',\n",
       " 'E_step',\n",
       " 'M_step',\n",
       " '__class__',\n",
       " '__delattr__',\n",
       " '__dict__',\n",
       " '__dir__',\n",
       " '__doc__',\n",
       " '__eq__',\n",
       " '__format__',\n",
       " '__ge__',\n",
       " '__getattribute__',\n",
       " '__gt__',\n",
       " '__hash__',\n",
       " '__init__',\n",
       " '__init_subclass__',\n",
       " '__le__',\n",
       " '__lt__',\n",
       " '__module__',\n",
       " '__ne__',\n",
       " '__new__',\n",
       " '__reduce__',\n",
       " '__reduce_ex__',\n",
       " '__repr__',\n",
       " '__setattr__',\n",
       " '__sizeof__',\n",
       " '__str__',\n",
       " '__subclasshook__',\n",
       " '__weakref__',\n",
       " '_from_setup',\n",
       " '_initialize',\n",
       " 'covariates_emissions',\n",
       " 'covariates_initial',\n",
       " 'covariates_transition',\n",
       " 'dfs_logStates',\n",
       " 'from_config',\n",
       " 'from_json',\n",
       " 'inp_emissions',\n",
       " 'inp_emissions_all_sequences',\n",
       " 'inp_initials',\n",
       " 'inp_initials_all_sequences',\n",
       " 'inp_transitions',\n",
       " 'inp_transitions_all_sequences',\n",
       " 'log_epsilons',\n",
       " 'log_gammas',\n",
       " 'log_likelihood',\n",
       " 'log_likelihoods',\n",
       " 'max_EM_iter',\n",
       " 'model_emissions',\n",
       " 'model_initial',\n",
       " 'model_transition',\n",
       " 'num_emissions',\n",
       " 'num_seqs',\n",
       " 'num_states',\n",
       " 'out_emissions',\n",
       " 'out_emissions_all_sequences',\n",
       " 'responses_emissions',\n",
       " 'set_data',\n",
       " 'set_inputs',\n",
       " 'set_models',\n",
       " 'set_outputs',\n",
       " 'to_json',\n",
       " 'train',\n",
       " 'trained']"
      ]
     },
     "execution_count": 14,
     "metadata": {},
     "output_type": "execute_result"
    }
   ],
   "source": [
    "dir(clf)"
   ]
  }
 ],
 "metadata": {
  "kernelspec": {
   "display_name": "Python 3",
   "language": "python",
   "name": "python3"
  },
  "language_info": {
   "codemirror_mode": {
    "name": "ipython",
    "version": 3
   },
   "file_extension": ".py",
   "mimetype": "text/x-python",
   "name": "python",
   "nbconvert_exporter": "python",
   "pygments_lexer": "ipython3",
   "version": "3.9.4"
  }
 },
 "nbformat": 4,
 "nbformat_minor": 5
}
