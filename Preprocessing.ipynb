{
 "cells": [
  {
   "cell_type": "code",
   "execution_count": 1,
   "id": "aefe56a5",
   "metadata": {},
   "outputs": [],
   "source": [
    "import pickle\n",
    "import numpy as np\n",
    "from scipy.signal import welch as psd_welch\n",
    "import matplotlib.pyplot as plt\n",
    "from tqdm import tqdm\n",
    "import pandas as pd"
   ]
  },
  {
   "cell_type": "code",
   "execution_count": 2,
   "id": "2879c507",
   "metadata": {},
   "outputs": [],
   "source": [
    "# Takes a minute or so\n",
    "with open(\"./data/preprocessed/all_data.pkl\", \"rb\") as fp:\n",
    "    data = pickle.load(fp)"
   ]
  },
  {
   "cell_type": "code",
   "execution_count": 3,
   "id": "c6c41cb4",
   "metadata": {},
   "outputs": [],
   "source": [
    "# avoid redoing our psd calculations\n",
    "df = pd.read_csv(\"./data/preprocessed/data.csv\")\n",
    "X = df.to_numpy()\n",
    "X = X[:,1:]\n",
    "Xpsd = X[:,1:7]\n",
    "Xpsd_rel = X[:,7:13]"
   ]
  },
  {
   "cell_type": "code",
   "execution_count": 4,
   "id": "a28f1e7d",
   "metadata": {},
   "outputs": [],
   "source": [
    "FREQ_BANDS = {\n",
    "    \"delta\": [0.5, 4.0],\n",
    "    \"theta\": [4.0, 8.0],\n",
    "    \"alpha\": [8.0, 12.0],\n",
    "    \"sigma\": [12.0, 16.0],\n",
    "    \"beta\": [16.0, 30.0],\n",
    "    \"gamma\": [30.0, 40.0]\n",
    "}\n",
    "\n",
    "Fs = 100\n",
    "Ts = 1/Fs"
   ]
  },
  {
   "cell_type": "code",
   "execution_count": 5,
   "id": "b260cd80",
   "metadata": {},
   "outputs": [],
   "source": [
    "def data_to_binned_psd(x, freq_bins=FREQ_BANDS.values()):\n",
    "    freqs, x_psd = psd_welch(x, fs=Fs, return_onesided=True)\n",
    "    bins = np.zeros(len(freq_bins))\n",
    "    for i, (freq_start, freq_end) in enumerate(freq_bins):\n",
    "        mask = (freqs >= freq_start) & (freqs <= freq_end)\n",
    "        x_psd_bin = x_psd[mask]\n",
    "        bins[i] = np.mean(x_psd_bin)\n",
    "    return bins"
   ]
  },
  {
   "cell_type": "code",
   "execution_count": 6,
   "id": "8395deed",
   "metadata": {},
   "outputs": [
    {
     "name": "stderr",
     "output_type": "stream",
     "text": [
      "100%|███████████████████████████████████████████████████████████████████████████| 45222/45222 [00:46<00:00, 969.81it/s]\n"
     ]
    }
   ],
   "source": [
    "# get frequency bins\n",
    "Xpsd = []\n",
    "Xpsd_rel = []\n",
    "for _, _, x in tqdm(data):\n",
    "    x_psd = data_to_binned_psd(x)\n",
    "    x_psd_rel = x_psd / np.sum(x_psd)\n",
    "    Xpsd.append(x_psd)\n",
    "    Xpsd_rel.append(x_psd_rel)"
   ]
  },
  {
   "cell_type": "code",
   "execution_count": 7,
   "id": "9a9f15ae",
   "metadata": {},
   "outputs": [
    {
     "name": "stderr",
     "output_type": "stream",
     "text": [
      "100%|██████████████████████████████████████████████████████████████████████████| 45222/45222 [00:24<00:00, 1867.44it/s]\n"
     ]
    }
   ],
   "source": [
    "# get hjorth measurements\n",
    "Xactivity = []\n",
    "Xmobility = []\n",
    "Xcomplexity = []\n",
    "\n",
    "def mobility(y):\n",
    "    dy_dt = np.gradient(y)\n",
    "    return (np.var(dy_dt)/np.var(y))**0.5\n",
    "\n",
    "for _, _, x in tqdm(data):\n",
    "    dx_dt = np.gradient(x)\n",
    "    x_activity = np.var(x)\n",
    "    x_mobility = mobility(x)\n",
    "    x_complexity = mobility(dx_dt)/x_mobility\n",
    "    \n",
    "    Xactivity.append(x_activity)\n",
    "    Xmobility.append(x_mobility)\n",
    "    Xcomplexity.append(x_complexity)"
   ]
  },
  {
   "cell_type": "code",
   "execution_count": 8,
   "id": "cddbca0c",
   "metadata": {},
   "outputs": [
    {
     "name": "stderr",
     "output_type": "stream",
     "text": [
      "100%|██████████████████████████████████████████████████████████████████████████| 45222/45222 [00:09<00:00, 4760.55it/s]\n"
     ]
    }
   ],
   "source": [
    "# get entropy\n",
    "Xentropy = []\n",
    "for _, _, x in tqdm(data):\n",
    "    x = x-np.min(x) + 0.01\n",
    "    px = x/np.sum(x)\n",
    "    x_entropy = -np.sum(px*np.log2(px))\n",
    "    Xentropy.append(x_entropy)"
   ]
  },
  {
   "cell_type": "code",
   "execution_count": 21,
   "id": "b7d82b35",
   "metadata": {},
   "outputs": [
    {
     "data": {
      "text/plain": [
       "<matplotlib.image.AxesImage at 0x1ff2cedc370>"
      ]
     },
     "execution_count": 21,
     "metadata": {},
     "output_type": "execute_result"
    },
    {
     "data": {
      "image/png": "[encoded data removed]",
      "text/plain": [
       "<Figure size 360x720 with 1 Axes>"
      ]
     },
     "metadata": {
      "needs_background": "light"
     },
     "output_type": "display_data"
    }
   ],
   "source": [
    "fig = plt.figure(figsize=(5,10))\n",
    "plt.imshow(np.array(Xpsd[:10000]).T)"
   ]
  },
  {
   "cell_type": "code",
   "execution_count": 9,
   "id": "cdbf4122",
   "metadata": {},
   "outputs": [
    {
     "name": "stderr",
     "output_type": "stream",
     "text": [
      "100%|████████████████████████████████████████████████████████████████████████| 45222/45222 [00:00<00:00, 145431.16it/s]\n"
     ]
    }
   ],
   "source": [
    "Nsamples = len(data)\n",
    "data_export = []\n",
    "for i in tqdm(range(Nsamples)):\n",
    "    pid, y, _ = data[i]\n",
    "    x_psd = Xpsd[i]\n",
    "    x_psd_rel = Xpsd_rel[i]\n",
    "    x_activity = Xactivity[i]\n",
    "    x_mobility = Xmobility[i]\n",
    "    x_complexity = Xcomplexity[i]\n",
    "    x_entropy = Xentropy[i]\n",
    "    entry = [\n",
    "        pid, \n",
    "        *x_psd, *x_psd_rel, \n",
    "        x_activity, x_mobility, x_complexity,\n",
    "        x_entropy,\n",
    "        y]\n",
    "    data_export.append(entry)"
   ]
  },
  {
   "cell_type": "code",
   "execution_count": 10,
   "id": "e3da2c7d",
   "metadata": {},
   "outputs": [],
   "source": [
    "columns = [\n",
    "    \"patient_id\", \n",
    "    *[f\"Xpsd_{i}\" for i in range(6)], \n",
    "    *[f\"Xpsd_rel_{i}\" for i in range(6)], \n",
    "    \"activity\",\n",
    "    \"mobility\",\n",
    "    \"complexity\",\n",
    "    \"entropy\",\n",
    "    \"Y\"]\n",
    "df = pd.DataFrame(data_export, columns=columns)\n",
    "df.to_csv(\"./data/preprocessed/data.csv\", index=False)"
   ]
  }
 ],
 "metadata": {
  "kernelspec": {
   "display_name": "Python 3",
   "language": "python",
   "name": "python3"
  },
  "language_info": {
   "codemirror_mode": {
    "name": "ipython",
    "version": 3
   },
   "file_extension": ".py",
   "mimetype": "text/x-python",
   "name": "python",
   "nbconvert_exporter": "python",
   "pygments_lexer": "ipython3",
   "version": "3.9.4"
  }
 },
 "nbformat": 4,
 "nbformat_minor": 5
}
