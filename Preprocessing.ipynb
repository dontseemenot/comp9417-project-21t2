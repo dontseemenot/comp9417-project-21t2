{
 "cells": [
  {
   "cell_type": "code",
   "execution_count": 39,
   "id": "f9b4c5ac",
   "metadata": {},
   "outputs": [],
   "source": [
    "import pickle\n",
    "import numpy as np\n",
    "from scipy.signal import welch as psd_welch\n",
    "import matplotlib.pyplot as plt\n",
    "from tqdm import tqdm\n",
    "import pandas as pd"
   ]
  },
  {
   "cell_type": "code",
   "execution_count": 7,
   "id": "f0c0ef0c",
   "metadata": {},
   "outputs": [],
   "source": [
    "with open(\"./data/preprocessed/all_data.pkl\", \"rb\") as fp:\n",
    "    data = pickle.load(fp)"
   ]
  },
  {
   "cell_type": "code",
   "execution_count": 8,
   "id": "fc883377",
   "metadata": {},
   "outputs": [],
   "source": [
    "FREQ_BANDS = {\n",
    "    \"delta\": [0.5, 4.0],\n",
    "    \"theta\": [4.0, 8.0],\n",
    "    \"alpha\": [8.0, 12.0],\n",
    "    \"sigma\": [12.0, 16.0],\n",
    "    \"beta\": [16.0, 30.0],\n",
    "    \"gamma\": [30.0, 40.0]\n",
    "}\n",
    "\n",
    "Fs = 100\n",
    "Ts = 1/Fs"
   ]
  },
  {
   "cell_type": "code",
   "execution_count": 27,
   "id": "efd46183",
   "metadata": {},
   "outputs": [],
   "source": [
    "def data_to_binned_psd(x, freq_bins=FREQ_BANDS.values()):\n",
    "    freqs, x_psd = psd_welch(x, fs=Fs, return_onesided=True)\n",
    "    bins = np.zeros(len(freq_bins))\n",
    "    for i, (freq_start, freq_end) in enumerate(freq_bins):\n",
    "        mask = (freqs >= freq_start) & (freqs <= freq_end)\n",
    "        x_psd_bin = x_psd[mask]\n",
    "        bins[i] = np.mean(x_psd_bin)\n",
    "    return bins"
   ]
  },
  {
   "cell_type": "code",
   "execution_count": 36,
   "id": "ca2e33d6",
   "metadata": {},
   "outputs": [
    {
     "name": "stderr",
     "output_type": "stream",
     "text": [
      "100%|██████████████████████████████████████████████████████████████████████████| 97432/97432 [01:12<00:00, 1336.25it/s]\n"
     ]
    }
   ],
   "source": [
    "# get frequency bins\n",
    "Xpsd = []\n",
    "Xpsd_rel = []\n",
    "for _, _, x in tqdm(data):\n",
    "    x_psd = data_to_binned_psd(x)\n",
    "    x_psd_rel = x_psd / np.sum(x_psd)\n",
    "    Xpsd.append(x_psd)\n",
    "    Xpsd_rel.append(x_psd_rel)"
   ]
  },
  {
   "cell_type": "code",
   "execution_count": 38,
   "id": "88bcd40a",
   "metadata": {},
   "outputs": [
    {
     "name": "stderr",
     "output_type": "stream",
     "text": [
      "100%|████████████████████████████████████████████████████████████████████████| 97432/97432 [00:00<00:00, 264045.61it/s]\n"
     ]
    }
   ],
   "source": [
    "Nsamples = len(data)\n",
    "data_export = []\n",
    "for i in tqdm(range(Nsamples)):\n",
    "    pid, y, _ = data[i]\n",
    "    x_psd = Xpsd[i]\n",
    "    entry = [pid, *x_psd, y]\n",
    "    data_export.append(entry)"
   ]
  },
  {
   "cell_type": "code",
   "execution_count": 45,
   "id": "0dc7f2d1",
   "metadata": {},
   "outputs": [],
   "source": [
    "df = pd.DataFrame(data_export, columns=[\"patient\", *[f\"X{i}\" for i in range(6)], \"Y\"])\n",
    "df.to_csv(\"./data/preprocessed/data.csv\")"
   ]
  }
 ],
 "metadata": {
  "kernelspec": {
   "display_name": "Python 3",
   "language": "python",
   "name": "python3"
  },
  "language_info": {
   "codemirror_mode": {
    "name": "ipython",
    "version": 3
   },
   "file_extension": ".py",
   "mimetype": "text/x-python",
   "name": "python",
   "nbconvert_exporter": "python",
   "pygments_lexer": "ipython3",
   "version": "3.9.4"
  }
 },
 "nbformat": 4,
 "nbformat_minor": 5
}
